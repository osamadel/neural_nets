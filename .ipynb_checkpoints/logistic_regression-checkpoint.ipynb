{
 "cells": [
  {
   "cell_type": "code",
   "execution_count": 1,
   "metadata": {},
   "outputs": [],
   "source": [
    "# Importing libraries\n",
    "import numpy as np\n",
    "import random\n",
    "from matplotlib import pyplot as plt\n"
   ]
  },
  {
   "cell_type": "code",
   "execution_count": 2,
   "metadata": {},
   "outputs": [],
   "source": [
    "class LogisticRegression():\n",
    "    def __init__(self):\n",
    "        self.w = np.random.rand(1,1)\n",
    "        self.b = np.random.rand(1,1)\n",
    "        self.J = 0\n",
    "    \n",
    "    def __sigmoid(self, z):\n",
    "        return 1 / (1 + (np.exp(-1 * z)))\n",
    "    \n",
    "    def __step(self, w, b, X, y, alpha, m, print_params=False):\n",
    "        \"\"\" Implements one step of backpropagation \"\"\"\n",
    "        if print_params:\n",
    "            print(\"w.shape:\",w.shape)\n",
    "            print(\"b.shape:\", b.shape)\n",
    "            print(\"X.shape:\", X.shape)\n",
    "            print(\"y.shape:\", y.shape)\n",
    "        Z = np.dot(w, X) + b\n",
    "        # print(\"Z.shape:\", Z.shape)\n",
    "        A = self.__sigmoid(Z)\n",
    "        # print(\"A.shape:\", A.shape)\n",
    "        dZ = A - y\n",
    "        # print(\"dZ.shape:\", dZ.shape)\n",
    "        dw = np.dot(dZ, X.T) / m\n",
    "        db = np.sum(dZ) / m\n",
    "        w = w - alpha * dw\n",
    "        b = b - alpha * db\n",
    "        J = np.sum(-y * np.log(A) - (1-y) * np.log(1-A)) / m\n",
    "        return w, b, J\n",
    "    \n",
    "    def train(self, X, y, print_params=False):\n",
    "        \"\"\" Trains logsitic regression model - X is N x M matrix and y is 1 x M matrix \"\"\"\n",
    "        alpha = 0.01\n",
    "        m = 1000\n",
    "        for i in range(100000):\n",
    "            self.w, self.b, self.J = self.__step(self.w, self.b, X, y, alpha, m)\n",
    "            if print_params:\n",
    "                print(\"J:\", self.J)\n",
    "                print(\"w:\", self.w, \"b:\", self.b)\n",
    "                print(\"========\")\n",
    "        \n",
    "    def predict(self, x_tst):\n",
    "        \"\"\" Returns the prediction of the input x_tst - x_tst should be 1 x N vector \"\"\"\n",
    "        return self.__sigmoid(np.dot(self.w, x_tst) + self.b)\n"
   ]
  },
  {
   "cell_type": "code",
   "execution_count": 3,
   "metadata": {},
   "outputs": [
    {
     "name": "stdout",
     "output_type": "stream",
     "text": [
      "X is (1, 1000)\n",
      "y is (1, 1000)\n"
     ]
    }
   ],
   "source": [
    "# Generating training data\n",
    "x = np.linspace(1, 10, 1000)[:, np.newaxis].T\n",
    "y = np.hstack((np.zeros((1,500)), np.ones((1,500))))\n",
    "\n",
    "# Adding some randomness\n",
    "y[0,random.randint(0,500)] = 1\n",
    "y[0,random.randint(500,1000)] = 0\n",
    "print(\"X is\", x.shape)\n",
    "print(\"y is\", y.shape)\n"
   ]
  },
  {
   "cell_type": "code",
   "execution_count": 4,
   "metadata": {},
   "outputs": [],
   "source": [
    "# Creating and training the model\n",
    "model = LogisticRegression()\n",
    "model.train(x, y)\n"
   ]
  },
  {
   "cell_type": "code",
   "execution_count": 5,
   "metadata": {},
   "outputs": [
    {
     "name": "stdout",
     "output_type": "stream",
     "text": [
      "Prediction of [[0.05]]  is [[1.15341763e-06]]\n"
     ]
    }
   ],
   "source": [
    "# Generating a test example\n",
    "x1 = np.array([[0.05]])\n",
    "# Predicting the output\n",
    "y1 = model.predict(x1)\n",
    "print(\"Prediction of\", x1, \" is\", y1)\n"
   ]
  },
  {
   "cell_type": "code",
   "execution_count": 6,
   "metadata": {},
   "outputs": [],
   "source": [
    "# Generating predictions for all input examples X\n",
    "x_test = np.linspace(1, 10, 100)[:,np.newaxis].T\n",
    "y_p = model.predict(x_test)\n"
   ]
  },
  {
   "cell_type": "code",
   "execution_count": 7,
   "metadata": {},
   "outputs": [
    {
     "name": "stdout",
     "output_type": "stream",
     "text": [
      "x is (1, 1000) and y_p is (1, 100)\n",
      "max of y_p: 0.999989723770419\n"
     ]
    },
    {
     "data": {
      "image/png": "[encoded data removed]",
      "text/plain": [
       "<Figure size 432x288 with 1 Axes>"
      ]
     },
     "metadata": {},
     "output_type": "display_data"
    }
   ],
   "source": [
    "# Plotting training data\n",
    "plt.figure(0)\n",
    "plt.plot(x, y, \"r+\")\n",
    "# plt.show()\n",
    "# Plotting predictions\n",
    "print(\"x is\", x.shape, \"and y_p is\", y_p.shape)\n",
    "print(\"max of y_p:\", np.max(y_p))\n",
    "plt.plot(x_test, y_p, \"bo\")\n",
    "plt.show()"
   ]
  }
 ],
 "metadata": {
  "file_extension": ".py",
  "kernelspec": {
   "display_name": "Python 3",
   "language": "python",
   "name": "python3"
  },
  "language_info": {
   "codemirror_mode": {
    "name": "ipython",
    "version": 3
   },
   "file_extension": ".py",
   "mimetype": "text/x-python",
   "name": "python",
   "nbconvert_exporter": "python",
   "pygments_lexer": "ipython3",
   "version": "3.6.5"
  },
  "mimetype": "text/x-python",
  "name": "python",
  "npconvert_exporter": "python",
  "pygments_lexer": "ipython3",
  "version": 3
 },
 "nbformat": 4,
 "nbformat_minor": 2
}
