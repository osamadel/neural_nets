{
 "cells": [
  {
   "cell_type": "code",
   "execution_count": 1,
   "metadata": {},
   "outputs": [],
   "source": [
    "import numpy as np\n",
    "import random\n",
    "from matplotlib import pyplot as plt\n"
   ]
  },
  {
   "cell_type": "code",
   "execution_count": 2,
   "metadata": {},
   "outputs": [],
   "source": [
    "class LinearRegression():\n",
    "    def __init__(self):\n",
    "        self.w = random.random()\n",
    "        self.b = random.random()\n",
    "    \n",
    "    def train(self, X, y, print_params = False):\n",
    "        \"\"\" X is M x 1 matrix and y is M x 1 matrix \"\"\"\n",
    "        alpha = 0.001\n",
    "        thresh = 1.1\n",
    "        i = 1\n",
    "        m = y.shape[0]\n",
    "        while(True):\n",
    "            y_pred = self.w * X + self.b\n",
    "            J_train = np.sum((y_pred - y)**2) / m\n",
    "            dw = 2 * np.sum((y_pred - y) * X) / m\n",
    "            db = 2 * np.sum(y_pred - y) / m\n",
    "            self.w = self.w - alpha * dw\n",
    "            self.b = self.b - alpha * db\n",
    "            if print_params:\n",
    "                print(\"Step #{0}\".format(i))\n",
    "                print(\"J_train:\", J_train)\n",
    "                print(\"w:\", self.w, \"b:\", self.b)\n",
    "                print()\n",
    "            i += 1\n",
    "            if J_train < thresh:\n",
    "                print(\"=> Training is complete.\")\n",
    "                break\n",
    "\n",
    "    \n",
    "    def predict(self, x_test):\n",
    "        \"\"\" Returns the prediction for all x_test \"\"\"\n",
    "        return self.w * x_test + self.b"
   ]
  },
  {
   "cell_type": "code",
   "execution_count": 3,
   "metadata": {},
   "outputs": [
    {
     "name": "stdout",
     "output_type": "stream",
     "text": [
      "x is (1000, 1)\n",
      "y is (1000, 1)\n"
     ]
    }
   ],
   "source": [
    "# Generating random dataset\n",
    "# Let's assume we have a straight line: y = 4 * x + 10,\n",
    "# We need to create a dataset that approcimately represents this line.\n",
    "x = np.random.randn(1000, 1) + 4\n",
    "rand_bias = np.random.randn(1000, 1) \n",
    "y = 4 * x + 10 + rand_bias\n",
    "print(\"x is\", x.shape)\n",
    "print(\"y is\", y.shape)\n"
   ]
  },
  {
   "cell_type": "code",
   "execution_count": 4,
   "metadata": {},
   "outputs": [
    {
     "name": "stdout",
     "output_type": "stream",
     "text": [
      "x_train: (800, 1)\n",
      "y_train: (800, 1)\n",
      "x_test: (200, 1)\n",
      "y_test: (200, 1)\n"
     ]
    }
   ],
   "source": [
    "# Splitting dataset into training and test sets\n",
    "x_train = x[:800,:]\n",
    "y_train = y[:800,:]\n",
    "x_test = x[800:,:]\n",
    "y_test = y[800:,:]\n",
    "print(\"x_train:\", x_train.shape)\n",
    "print(\"y_train:\", y_train.shape)\n",
    "print(\"x_test:\", x_test.shape)\n",
    "print(\"y_test:\", y_test.shape)"
   ]
  },
  {
   "cell_type": "code",
   "execution_count": 5,
   "metadata": {},
   "outputs": [],
   "source": [
    "# Plot test set examples\n",
    "# plt.figure(1)\n",
    "# plt.plot(x_test, y_test, \"r*\")\n",
    "# plt.show()"
   ]
  },
  {
   "cell_type": "code",
   "execution_count": 6,
   "metadata": {},
   "outputs": [
    {
     "name": "stdout",
     "output_type": "stream",
     "text": [
      "=> Training is complete.\n"
     ]
    }
   ],
   "source": [
    "# Create and traing a linear regression model\n",
    "model = LinearRegression()\n",
    "model.train(x_train, y_train)\n"
   ]
  },
  {
   "cell_type": "code",
   "execution_count": 7,
   "metadata": {},
   "outputs": [
    {
     "name": "stdout",
     "output_type": "stream",
     "text": [
      "J_test: 1.0555539096689068\n"
     ]
    }
   ],
   "source": [
    "# Generating predictions for test set\n",
    "y_pred = model.predict(x_test)\n",
    "J_test = np.sum((y_pred - y_test)**2) / y_pred.shape[0]\n",
    "print(\"J_test:\", J_test)\n"
   ]
  },
  {
   "cell_type": "code",
   "execution_count": 8,
   "metadata": {},
   "outputs": [
    {
     "data": {
      "image/png": "[encoded data removed]",
      "text/plain": [
       "<Figure size 432x288 with 1 Axes>"
      ]
     },
     "metadata": {},
     "output_type": "display_data"
    }
   ],
   "source": [
    "# Plotting the model against the data examples\n",
    "xline = np.array([[np.min(x_train)], [np.max(x_train)]])\n",
    "yline = model.predict(xline)\n",
    "plt.figure(0)\n",
    "\n",
    "plt.plot(x, y, \"r*\")\n",
    "plt.plot(xline, yline)\n",
    "plt.show()"
   ]
  }
 ],
 "metadata": {
  "file_extension": ".py",
  "kernelspec": {
   "display_name": "Python 3",
   "language": "python",
   "name": "python3"
  },
  "language_info": {
   "codemirror_mode": {
    "name": "ipython",
    "version": 3
   },
   "file_extension": ".py",
   "mimetype": "text/x-python",
   "name": "python",
   "nbconvert_exporter": "python",
   "pygments_lexer": "ipython3",
   "version": "3.6.5"
  },
  "mimetype": "text/x-python",
  "name": "python",
  "npconvert_exporter": "python",
  "pygments_lexer": "ipython3",
  "version": 3
 },
 "nbformat": 4,
 "nbformat_minor": 2
}
